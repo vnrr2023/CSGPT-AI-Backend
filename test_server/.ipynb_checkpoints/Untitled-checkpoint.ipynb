{
 "cells": [
  {
   "cell_type": "code",
   "execution_count": 1,
   "id": "2e8b7c6c-6595-439d-85ae-40fe72dd9cd1",
   "metadata": {},
   "outputs": [
    {
     "name": "stderr",
     "output_type": "stream",
     "text": [
      "C:\\Users\\chouh\\AppData\\Local\\Temp\\ipykernel_2124\\2626464900.py:5: LangChainDeprecationWarning: The class `HuggingFaceEmbeddings` was deprecated in LangChain 0.2.2 and will be removed in 1.0. An updated version of the class exists in the langchain-huggingface package and should be used instead. To use it run `pip install -U langchain-huggingface` and import as `from langchain_huggingface import HuggingFaceEmbeddings`.\n",
      "  embeddings=HuggingFaceEmbeddings()\n",
      "D:\\csgpt\\csgptvenv\\Lib\\site-packages\\sentence_transformers\\cross_encoder\\CrossEncoder.py:11: TqdmExperimentalWarning: Using `tqdm.autonotebook.tqdm` in notebook mode. Use `tqdm.tqdm` instead to force console mode (e.g. in jupyter console)\n",
      "  from tqdm.autonotebook import tqdm, trange\n",
      "D:\\csgpt\\csgptvenv\\Lib\\site-packages\\transformers\\tokenization_utils_base.py:1601: FutureWarning: `clean_up_tokenization_spaces` was not set. It will be set to `True` by default. This behavior will be depracted in transformers v4.45, and will be then set to `False` by default. For more details check this issue: https://github.com/huggingface/transformers/issues/31884\n",
      "  warnings.warn(\n"
     ]
    }
   ],
   "source": [
    "from langchain_chroma import Chroma\n",
    "from langchain.embeddings import HuggingFaceEmbeddings\n",
    "\n",
    "\n",
    "embeddings=HuggingFaceEmbeddings()\n",
    "persist_directory = \"6_doc_db\"\n",
    "collection_name=\"books\"\n",
    "vector_store=Chroma(persist_directory=persist_directory,collection_name=collection_name, embedding_function=embeddings)"
   ]
  },
  {
   "cell_type": "code",
   "execution_count": 7,
   "id": "c415b3b6-5f2f-453e-8a50-85af272e7038",
   "metadata": {},
   "outputs": [],
   "source": [
    "data=vector_store.similarity_search(query=\"what is tcp\",k=4)"
   ]
  },
  {
   "cell_type": "code",
   "execution_count": 8,
   "id": "b9c9d83e-4fdc-4ede-b10f-e81061cb1beb",
   "metadata": {},
   "outputs": [],
   "source": [
    "context=\"\"\n",
    "for doc in data:\n",
    "    context+=doc.page_content"
   ]
  },
  {
   "cell_type": "code",
   "execution_count": 9,
   "id": "006ad05c-6ee5-41d3-be6c-a3958af5d864",
   "metadata": {},
   "outputs": [
    {
     "data": {
      "text/plain": [
       "'(for error detection), retransmission of lost or corrupted packets, cumulative and selec-\\ntive acknowledgments, and timers. In this section, we first discuss the services provided\\nby TCP; we then discuss the TCP features in more detail. TCP is the most common\\ntransport-layer protocol in the Internet.\\n24.3.1 TCP Services\\nBefore discussing TCP in detail, let us explain the services offered by TCP to the pro-\\ncesses at the application layer.\\nProcess-to-Process Communication\\nAs with UDP, TCP provides process-to-process communication using port numbers.\\nWe have already given some of the port numbers used by TCP in Table 24.1 in the pre-\\nvious section.744 PART V TRANSPORT LAYER\\nStream Delivery Service\\nTCP, unlike UDP, is a stream-oriented protocol. In UDP, a process sends messages with\\npredefined boundaries to UDP for delivery. UDP adds its own header to each of these\\nmessages and delivers it to IP for transmission. Each message from the process is called\\na user datagram, and becomes, eventually, one IP datagram. Neither IP nor UDP recog-\\nnizes any relationship between the datagrams.\\nTCP, on the other hand, allows the sending process to deliver data as a stream of\\nbytes and allows the receiving process to obtain data as a stream of bytes. TCP creates\\nan environment in which the two processes seem to be connected by an imaginary\\n“tube” that carries their bytes across the Internet. This imaginary environment is\\ndepicted in Figure 24.4. The sending process produces (writes to) the stream and the\\nreceiving process consumes (reads from) it.\\nFigure 24.4 Stream delivery\\nSending Receiving\\nprocess process\\nStream of bytes\\nTCP TCP\\nSending and Receiving Buffers\\nBecause the sending and the receiving processes may not necessarily write or read\\ndata at the same rate, TCP needs buffers for storage. There are two buffers, the send-\\ning buffer and the receiving buffer, one for each direction. We will see later that these\\nbuffers are also necessary for flow- and error-control mechanisms used by TCP. One\\nway to implement a buffer is to use a circular array of 1-byte locations as shown in\\nFigure 24.5. For simplicity, we have shown two buffers of 20 bytes each; normally\\nthe buffers are hundreds or thousands of bytes, depending on the implementation. We\\nalso show the buffers as the same size, which is not always the case.\\nThe figure shows the movement of the data in one direction. At the sender, the buf-deadlock slow-start algorithm\\ndenial of service attack socket address\\nfast-recovery Stream Control Transmission Protocol\\nfast retransmission (SCTP)\\nfragmentation stream identifier (SI)\\nhalf-close stream sequence number (SSN)\\ninitial sequence number (ISN) SYN flooding attack\\ninitial TSN three-way handshaking\\ninitiation tag Transmission Control Protocol (TCP)\\nKarn’s algorithm transmission sequence number (TSN)\\nkeepalive timer user datagram\\nmultihoming service User Datagram Protocol (UDP)\\nmultistream service verification tag (VT)\\n24.5.3 Summary\\nUDP is an unreliable and connectionless transport-layer protocol that creates a process-\\nto-process communication, which means it requires little overhead and offers fast deliv-\\nery. The UDP packet is called a user datagram. UDP has no flow- or error-control\\nmechanism; its only attempt at error control is the checksum. A user datagram is encap-\\nsulated in the data field of an IP datagram. UDP uses multiplexing and demultiplexing\\nto handle outgoing and incoming user datagrams.\\nTransmission Control Protocol (TCP) is another transport-layer protocol in the\\nTCP/IP protocol suite. It provides process-to-process, full-duplex, and connection-\\noriented service. A TCP connection consists of three phases: connection establishment,\\ndata transfer, and connection termination. TCP software is normally implemented as a806 PART V TRANSPORT LAYER\\nfinite state machine (FSM). TCP uses flow control, implemented as a sliding window\\nmechanism, to avoid overwhelming a receiver with data. The TCP window size is\\ndetermined by the receiver-advertised window size (rwnd) or the congestion window\\nsize (cwnd), whichever is smaller. The bytes of data being transferred in each connec-\\ntion are numbered by TCP. The numbering starts with a randomly generated number.\\nTCP uses error control to provide a reliable service. Error control is handled by checksums,\\nacknowledgment, and time-outs. In modern implementations, a retransmission occurs if\\nthe retransmission timer expires or three duplicate ACK segments have arrived. TCP uses\\ncongestion control to avoid and detect congestion in the network. The slow-start (expo-\\nnential increase), congestion-avoidance (additive increase), and congestion-detection\\n(multiplicative decrease) strategies are used for congestion control.\\nSCTP is a message-oriented, reliable protocol that combines the good features of\\nUDP and TCP. SCTP provides additional services not provided by UDP or TCP, suchand Transmission Control Protocol/Internet Protocol.\\nEthernet. A common LAN protocol is Ethernet. Most large corporations use 10-gigabit\\nEthernet, where the network provides data transmission speeds of 10 gigabits (10 billion bits)\\nper second. However, 100-gigabit Ethernet is emerging.\\nTransmission Control Protocol/Internet Protocol. The Transmission Control Protocol/\\nInternet Protocol (TCP/IP) is the protocol of the Internet. TCP/IP uses a suite of protocols,\\nthe main ones being the Transmission Control Protocol (TCP) and the Internet Protocol (IP).\\nThe TCP performs three basic functions: (1) It manages the movement of packets between\\ncomputers by establishing a connection between the computers, (2) it sequences the transfer of\\npackets, and (3) it acknowledges the packets that have been transmitted. The Internet Protocol\\n(IP) is responsible for disassembling, delivering, and reassembling the data during transmission.\\nBefore data are transmitted over the Internet, they are divided into small, fi xed bundles\\ncalled packets. The transmission technology that breaks up blocks of text into packets is called\\npacket switching. Each packet carries the information that will help it reach its destination—the\\nsender’s IP address, the intended receiver’s IP address, the number of packets in the message,\\nand the number of the particular packet within the message. Each packet travels independently\\nacross the network and can be routed through different paths in the network. When the packets\\nreach their destination, they are reassembled into the original message.\\nIt is important to note that packet-switching networks are reliable and fault tolerant. For\\nexample, if a path in the network is very busy or is broken, packets can be dynamically (“on\\nthe fl y”) rerouted around that path. Also, if one or more packets does not get to the receiving\\ncomputer, then only those packets need to be resent.\\nWhy do organizations use packet switching? The main reason is to achieve reliable end-to-end\\nmessage transmission over sometimes unreliable networks that may have transient (short-acting)\\nor persistent (long-acting) faults.\\nThe packets use the TCP/IP protocol to carry their data. TCP/IP functions in four layers\\n(see Figure 6.7). The application layer enables client application programs to access the other\\nlayers, and it defi nes the protocols that applications use to exchange data. One of these applica-TCP uses error control to provide a reliable service. Error control is handled by checksums,\\nacknowledgment, and time-outs. In modern implementations, a retransmission occurs if\\nthe retransmission timer expires or three duplicate ACK segments have arrived. TCP uses\\ncongestion control to avoid and detect congestion in the network. The slow-start (expo-\\nnential increase), congestion-avoidance (additive increase), and congestion-detection\\n(multiplicative decrease) strategies are used for congestion control.\\nSCTP is a message-oriented, reliable protocol that combines the good features of\\nUDP and TCP. SCTP provides additional services not provided by UDP or TCP, such\\nas multiple-stream and multihoming services. SCTP is a connection-oriented protocol,\\nin which a connection is called an association. SCTP provides flow control, error con-\\ntrol, and congestion control. To distinguish between different streams, SCTP uses the\\nsequence identifier (SI). To distinguish between different data chunks belonging to the\\nsame stream, SCTP uses the stream sequence number (SSN). The SCTP acknowledg-\\nment SACK reports the cumulative TSN, the TSN of the last data chunk received in\\norder, and selective TSNs that have been received.\\n24.6 PRACTICE SET\\n24.6.1 Quizzes\\nA set of interactive quizzes for this chapter can be found on the book website. It is\\nstrongly recommended that the student take the quizzes to check his/her understanding\\nof the materials before continuing with the practice set.\\n24.6.2 Questions\\nQ24-1. Some of the application programs can use the services of two transport-layer\\nprotocols (UDP or TCP). When a packet arrives at the destination, how can\\nthe computer find which transport layer is involved?\\nQ24-2. A client residing on a host with IP address 122.45.12.7 sends a message to the\\ncorresponding server residing on a host with IP address 200.112.45.90. If the\\nwell-known port is 161 and the ephemeral port is 51000, what are the pair of\\nsocket addresses used in this communication?\\nQ24-3. UDP is a message-oriented protocol. TCP is a byte-oriented protocol. If an\\napplication needs to protect the boundaries of its message, which protocol\\nshould be used, UDP or TCP?\\nQ24-4. Assume a private internet, which uses point-to-point communication between\\nthe hosts and needs no routing, has totally eliminated the use of the network\\nlayer. Can this internet still benefit from the services of UDP or TCP? In other'"
      ]
     },
     "execution_count": 9,
     "metadata": {},
     "output_type": "execute_result"
    }
   ],
   "source": [
    "context"
   ]
  },
  {
   "cell_type": "code",
   "execution_count": null,
   "id": "b22dfc3e-45df-4685-9376-e378a6dae10e",
   "metadata": {},
   "outputs": [],
   "source": []
  }
 ],
 "metadata": {
  "kernelspec": {
   "display_name": "csgptvenv",
   "language": "python",
   "name": "csgptvenv"
  },
  "language_info": {
   "codemirror_mode": {
    "name": "ipython",
    "version": 3
   },
   "file_extension": ".py",
   "mimetype": "text/x-python",
   "name": "python",
   "nbconvert_exporter": "python",
   "pygments_lexer": "ipython3",
   "version": "3.11.5"
  }
 },
 "nbformat": 4,
 "nbformat_minor": 5
}
